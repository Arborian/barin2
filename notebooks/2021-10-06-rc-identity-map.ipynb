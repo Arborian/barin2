{
 "cells": [
  {
   "cell_type": "markdown",
   "id": "a0acdad3",
   "metadata": {},
   "source": [
    "# Identity Map\n",
    "\n",
    "The purpose of the identity map is to keep track of in-memmory data (e.g. Python dicts) and how that data maps to database objects (e.g. a MongoDB document)"
   ]
  },
  {
   "cell_type": "code",
   "execution_count": 1,
   "id": "913d4b6d",
   "metadata": {},
   "outputs": [],
   "source": [
    "import pymongo\n",
    "cli = pymongo.MongoClient('mongodb://mongo')\n",
    "db = cli.barin2"
   ]
  },
  {
   "cell_type": "code",
   "execution_count": 2,
   "id": "5dd17a70",
   "metadata": {},
   "outputs": [],
   "source": [
    "user = {\n",
    "    'name': 'Rick',\n",
    "    'classes': 'Python ML'.split(),\n",
    "}\n",
    "db.users.delete_many({})\n",
    "insert_result = db.users.insert_one(user)"
   ]
  },
  {
   "cell_type": "code",
   "execution_count": 3,
   "id": "e4458e58",
   "metadata": {},
   "outputs": [
    {
     "data": {
      "text/plain": [
       "<pymongo.results.InsertOneResult at 0x7ff7f571e5a0>"
      ]
     },
     "execution_count": 3,
     "metadata": {},
     "output_type": "execute_result"
    }
   ],
   "source": [
    "insert_result"
   ]
  },
  {
   "cell_type": "code",
   "execution_count": 4,
   "id": "ae1fd13e",
   "metadata": {},
   "outputs": [
    {
     "data": {
      "text/plain": [
       "ObjectId('615e1ff773b0c646ff5e2a57')"
      ]
     },
     "execution_count": 4,
     "metadata": {},
     "output_type": "execute_result"
    }
   ],
   "source": [
    "insert_result.inserted_id"
   ]
  },
  {
   "cell_type": "code",
   "execution_count": 5,
   "id": "7bae79a2",
   "metadata": {},
   "outputs": [],
   "source": [
    "user_doc = db.users.find_one()"
   ]
  },
  {
   "cell_type": "code",
   "execution_count": 6,
   "id": "c3080974",
   "metadata": {},
   "outputs": [
    {
     "data": {
      "text/plain": [
       "{'_id': ObjectId('615e1ff773b0c646ff5e2a57'),\n",
       " 'name': 'Rick',\n",
       " 'classes': ['Python', 'ML']}"
      ]
     },
     "execution_count": 6,
     "metadata": {},
     "output_type": "execute_result"
    }
   ],
   "source": [
    "user_doc"
   ]
  },
  {
   "cell_type": "code",
   "execution_count": 7,
   "id": "2971e33f",
   "metadata": {},
   "outputs": [],
   "source": [
    "STATE_MAGIC = '__b2_state__'\n",
    "\n",
    "class InstrumentedState:\n",
    "    def __init__(self):\n",
    "        self.container = None\n",
    "        self._dirty = False\n",
    "        \n",
    "    def __repr__(self):\n",
    "        return f'<istate dirty={self._dirty} container={self.container}>'\n",
    "        \n",
    "    @property\n",
    "    def dirty(self):\n",
    "        return self._dirty\n",
    "    \n",
    "    @dirty.setter\n",
    "    def dirty(self, value):\n",
    "        self._dirty = value\n",
    "        if value and self.container:\n",
    "            get_state(self.container).dirty = True\n",
    "\n",
    "class Instrumented:\n",
    "    def __init__(self, *args, **kwargs):\n",
    "        setattr(self, STATE_MAGIC, InstrumentedState()) \n",
    "        super().__init__(*args, **kwargs)\n",
    "        \n",
    "def get_state(obj):\n",
    "    return getattr(obj, STATE_MAGIC)\n",
    "\n",
    "def instrument_method(cls, method_name):\n",
    "    super_method = getattr(cls, method_name)\n",
    "    def f(self, *args, **kwargs):\n",
    "        get_state(self).dirty = True\n",
    "        return super_method(self, *args, **kwargs)\n",
    "    return f\n",
    "\n",
    "def instrument_class(cls, *dirty_methods):\n",
    "    methods = {\n",
    "        method_name: instrument_method(cls, method_name)\n",
    "        for method_name in dirty_methods\n",
    "    }\n",
    "    icls = type('I' + cls.__qualname__, (Instrumented, cls,), methods)\n",
    "    return icls\n"
   ]
  },
  {
   "cell_type": "code",
   "execution_count": 8,
   "id": "44a3839b",
   "metadata": {},
   "outputs": [],
   "source": [
    "IDict = instrument_class(dict, *'__setitem__ __delitem__ clear pop popitem setdefault update'.split())\n",
    "IList = instrument_class(list, *'__setitem__ __delitem__ append clear extend insert pop remove reverse'.split())"
   ]
  },
  {
   "cell_type": "code",
   "execution_count": 9,
   "id": "af024304",
   "metadata": {},
   "outputs": [],
   "source": [
    "from functools import singledispatch\n",
    "\n",
    "@singledispatch\n",
    "def instrument_object(obj, container=None):\n",
    "    return obj\n",
    "\n",
    "@instrument_object.register\n",
    "def _instrument_object_dict(obj: dict, container=None):\n",
    "    obj = IDict(\n",
    "        (key, instrument_object(value))\n",
    "        for key, value in obj.items()\n",
    "    )\n",
    "    instrument_object_container(obj, container)\n",
    "    return obj\n",
    "\n",
    "@instrument_object.register\n",
    "def _instrument_object_list(obj: list, container=None):\n",
    "    obj = IList(\n",
    "        instrument_object(value)\n",
    "        for value in obj\n",
    "    )\n",
    "    instrument_object_container(obj, container)\n",
    "    return obj\n",
    "    \n",
    "@singledispatch\n",
    "def instrument_object_container(obj, container):\n",
    "    pass\n",
    "\n",
    "@instrument_object_container.register\n",
    "def instrument_object_container_dict(obj: dict, container):\n",
    "    get_state(obj).container = container\n",
    "    for value in obj.values():\n",
    "        instrument_object_container(value, obj)\n",
    "        \n",
    "@instrument_object_container.register\n",
    "def instrument_object_container_list(obj: list, container):\n",
    "    get_state(obj).container = container\n",
    "    for value in obj:\n",
    "        instrument_object_container(value, obj)"
   ]
  },
  {
   "cell_type": "code",
   "execution_count": 10,
   "id": "183a75d1",
   "metadata": {},
   "outputs": [],
   "source": [
    "class IdentityMap:\n",
    "    def __init__(self):\n",
    "        self._idmap = {}\n",
    "        \n",
    "    def process(self, collection, doc):\n",
    "        \"\"\"Takes a single 'raw' doc from MongoDB and inserts into identity map\"\"\"\n",
    "        key = (collection, doc['_id'])\n",
    "        result = self._idmap[key] = instrument_object(doc)\n",
    "        return result\n",
    "        \n",
    "    def get(self, collection, _id, default=None):\n",
    "        return self._idmap.get((collection, _id), default)"
   ]
  },
  {
   "cell_type": "code",
   "execution_count": 11,
   "id": "23f4aff6",
   "metadata": {},
   "outputs": [],
   "source": [
    "idmap = IdentityMap()"
   ]
  },
  {
   "cell_type": "code",
   "execution_count": 12,
   "id": "bca70f02",
   "metadata": {
    "scrolled": false
   },
   "outputs": [],
   "source": [
    "user_mdoc = idmap.process(db.users, user_doc)"
   ]
  },
  {
   "cell_type": "code",
   "execution_count": 13,
   "id": "6632920d",
   "metadata": {},
   "outputs": [
    {
     "data": {
      "text/plain": [
       "False"
      ]
     },
     "execution_count": 13,
     "metadata": {},
     "output_type": "execute_result"
    }
   ],
   "source": [
    "get_state(user_mdoc).dirty"
   ]
  },
  {
   "cell_type": "markdown",
   "id": "2bf4beba",
   "metadata": {},
   "source": [
    "Test direct modification of mdoc makes dirty"
   ]
  },
  {
   "cell_type": "code",
   "execution_count": 14,
   "id": "b414a23b",
   "metadata": {},
   "outputs": [],
   "source": [
    "user_mdoc['business'] = 'Arborian'"
   ]
  },
  {
   "cell_type": "code",
   "execution_count": 15,
   "id": "063e91cb",
   "metadata": {},
   "outputs": [],
   "source": [
    "user_mdoc.update(business='Arborian')"
   ]
  },
  {
   "cell_type": "code",
   "execution_count": 16,
   "id": "1a97cf8c",
   "metadata": {},
   "outputs": [
    {
     "data": {
      "text/plain": [
       "{'_id': ObjectId('615e1ff773b0c646ff5e2a57'),\n",
       " 'name': 'Rick',\n",
       " 'classes': ['Python', 'ML'],\n",
       " 'business': 'Arborian'}"
      ]
     },
     "execution_count": 16,
     "metadata": {},
     "output_type": "execute_result"
    }
   ],
   "source": [
    "user_mdoc"
   ]
  },
  {
   "cell_type": "code",
   "execution_count": 17,
   "id": "09be9257",
   "metadata": {},
   "outputs": [
    {
     "data": {
      "text/plain": [
       "True"
      ]
     },
     "execution_count": 17,
     "metadata": {},
     "output_type": "execute_result"
    }
   ],
   "source": [
    "get_state(user_mdoc).dirty"
   ]
  },
  {
   "cell_type": "markdown",
   "id": "e2220506",
   "metadata": {},
   "source": [
    "Get fresh mdoc, test popping embedded list makes dirty"
   ]
  },
  {
   "cell_type": "code",
   "execution_count": 18,
   "id": "29dccf81",
   "metadata": {},
   "outputs": [
    {
     "data": {
      "text/plain": [
       "False"
      ]
     },
     "execution_count": 18,
     "metadata": {},
     "output_type": "execute_result"
    }
   ],
   "source": [
    "user_mdoc = idmap.process(db.users, user_doc)\n",
    "get_state(user_mdoc).dirty"
   ]
  },
  {
   "cell_type": "code",
   "execution_count": 19,
   "id": "1f652a36",
   "metadata": {},
   "outputs": [
    {
     "data": {
      "text/plain": [
       "'ML'"
      ]
     },
     "execution_count": 19,
     "metadata": {},
     "output_type": "execute_result"
    }
   ],
   "source": [
    "user_mdoc['classes'].pop()"
   ]
  },
  {
   "cell_type": "code",
   "execution_count": 20,
   "id": "5980d14f",
   "metadata": {},
   "outputs": [
    {
     "data": {
      "text/plain": [
       "True"
      ]
     },
     "execution_count": 20,
     "metadata": {},
     "output_type": "execute_result"
    }
   ],
   "source": [
    "get_state(user_mdoc).dirty"
   ]
  },
  {
   "cell_type": "code",
   "execution_count": 21,
   "id": "4e2e9df5",
   "metadata": {},
   "outputs": [
    {
     "data": {
      "text/plain": [
       "True"
      ]
     },
     "execution_count": 21,
     "metadata": {},
     "output_type": "execute_result"
    }
   ],
   "source": [
    "get_state(user_mdoc['classes']).dirty"
   ]
  },
  {
   "cell_type": "code",
   "execution_count": 22,
   "id": "f342ca11",
   "metadata": {},
   "outputs": [
    {
     "data": {
      "text/plain": [
       "{'_id': ObjectId('615e1ff773b0c646ff5e2a57'),\n",
       " 'name': 'Rick',\n",
       " 'classes': ['Python']}"
      ]
     },
     "execution_count": 22,
     "metadata": {},
     "output_type": "execute_result"
    }
   ],
   "source": [
    "get_state(user_mdoc['classes']).container"
   ]
  },
  {
   "cell_type": "markdown",
   "id": "62a44f9a",
   "metadata": {},
   "source": [
    "# Test it in the barin2 package"
   ]
  },
  {
   "cell_type": "code",
   "execution_count": 23,
   "id": "31ad5e9d",
   "metadata": {},
   "outputs": [],
   "source": [
    "from barin2.identity_map import IdentityMap\n",
    "from barin2.instrumentation import get_state, cleanse_object"
   ]
  },
  {
   "cell_type": "code",
   "execution_count": 24,
   "id": "fecf403c",
   "metadata": {},
   "outputs": [],
   "source": [
    "imap = IdentityMap()"
   ]
  },
  {
   "cell_type": "code",
   "execution_count": 25,
   "id": "30f91e9f",
   "metadata": {},
   "outputs": [
    {
     "data": {
      "text/plain": [
       "<istate dirty=False container=None>"
      ]
     },
     "execution_count": 25,
     "metadata": {},
     "output_type": "execute_result"
    }
   ],
   "source": [
    "user_mdoc = idmap.process(db.users, user_doc)\n",
    "get_state(user_mdoc)"
   ]
  },
  {
   "cell_type": "markdown",
   "id": "e2c04054",
   "metadata": {},
   "source": [
    "Test direct modification of mdoc makes dirty"
   ]
  },
  {
   "cell_type": "code",
   "execution_count": 26,
   "id": "bb4b06bf",
   "metadata": {},
   "outputs": [
    {
     "data": {
      "text/plain": [
       "<istate dirty=True container=None>"
      ]
     },
     "execution_count": 26,
     "metadata": {},
     "output_type": "execute_result"
    }
   ],
   "source": [
    "user_mdoc['business'] = 'Arborian'\n",
    "get_state(user_mdoc)"
   ]
  },
  {
   "cell_type": "code",
   "execution_count": 27,
   "id": "c928b74b",
   "metadata": {},
   "outputs": [
    {
     "data": {
      "text/plain": [
       "<istate dirty=False container=None>"
      ]
     },
     "execution_count": 27,
     "metadata": {},
     "output_type": "execute_result"
    }
   ],
   "source": [
    "user_mdoc = idmap.process(db.users, user_doc)\n",
    "get_state(user_mdoc)"
   ]
  },
  {
   "cell_type": "code",
   "execution_count": 28,
   "id": "8a7d71a5",
   "metadata": {},
   "outputs": [
    {
     "data": {
      "text/plain": [
       "<istate dirty=True container=None>"
      ]
     },
     "execution_count": 28,
     "metadata": {},
     "output_type": "execute_result"
    }
   ],
   "source": [
    "user_mdoc.update(business='Arborian')\n",
    "get_state(user_mdoc)"
   ]
  },
  {
   "cell_type": "code",
   "execution_count": 29,
   "id": "51e049ef",
   "metadata": {},
   "outputs": [
    {
     "data": {
      "text/plain": [
       "<istate dirty=False container=None>"
      ]
     },
     "execution_count": 29,
     "metadata": {},
     "output_type": "execute_result"
    }
   ],
   "source": [
    "user_mdoc = idmap.process(db.users, user_doc)\n",
    "get_state(user_mdoc)"
   ]
  },
  {
   "cell_type": "code",
   "execution_count": 30,
   "id": "09b8b35f",
   "metadata": {},
   "outputs": [
    {
     "data": {
      "text/plain": [
       "<istate dirty=True container=None>"
      ]
     },
     "execution_count": 30,
     "metadata": {},
     "output_type": "execute_result"
    }
   ],
   "source": [
    "user_mdoc['classes'].pop()\n",
    "get_state(user_mdoc)"
   ]
  },
  {
   "cell_type": "code",
   "execution_count": 31,
   "id": "fa09431e",
   "metadata": {},
   "outputs": [
    {
     "data": {
      "text/plain": [
       "<istate dirty=True container={'_id': ObjectId('615e1ff773b0c646ff5e2a57'), 'name': 'Rick', 'classes': ['Python']}>"
      ]
     },
     "execution_count": 31,
     "metadata": {},
     "output_type": "execute_result"
    }
   ],
   "source": [
    "get_state(user_mdoc['classes'])"
   ]
  },
  {
   "cell_type": "code",
   "execution_count": 32,
   "id": "dfac2a44",
   "metadata": {},
   "outputs": [
    {
     "data": {
      "text/plain": [
       "{'_id': ObjectId('615e1ff773b0c646ff5e2a57'),\n",
       " 'name': 'Rick',\n",
       " 'classes': ['Python']}"
      ]
     },
     "execution_count": 32,
     "metadata": {},
     "output_type": "execute_result"
    }
   ],
   "source": [
    "get_state(user_mdoc['classes']).container"
   ]
  },
  {
   "cell_type": "code",
   "execution_count": 33,
   "id": "125b059c",
   "metadata": {},
   "outputs": [
    {
     "data": {
      "text/plain": [
       "<istate dirty=False container=None>"
      ]
     },
     "execution_count": 33,
     "metadata": {},
     "output_type": "execute_result"
    }
   ],
   "source": [
    "cleanse_object(user_mdoc)\n",
    "get_state(user_mdoc)"
   ]
  },
  {
   "cell_type": "code",
   "execution_count": 34,
   "id": "d007b608",
   "metadata": {},
   "outputs": [
    {
     "data": {
      "text/plain": [
       "<istate dirty=False container={'_id': ObjectId('615e1ff773b0c646ff5e2a57'), 'name': 'Rick', 'classes': ['Python']}>"
      ]
     },
     "execution_count": 34,
     "metadata": {},
     "output_type": "execute_result"
    }
   ],
   "source": [
    "get_state(user_mdoc['classes'])"
   ]
  },
  {
   "cell_type": "code",
   "execution_count": null,
   "id": "a480222a",
   "metadata": {},
   "outputs": [],
   "source": []
  }
 ],
 "metadata": {
  "kernelspec": {
   "display_name": "Python 3 (ipykernel)",
   "language": "python",
   "name": "python3"
  },
  "language_info": {
   "codemirror_mode": {
    "name": "ipython",
    "version": 3
   },
   "file_extension": ".py",
   "mimetype": "text/x-python",
   "name": "python",
   "nbconvert_exporter": "python",
   "pygments_lexer": "ipython3",
   "version": "3.7.10"
  }
 },
 "nbformat": 4,
 "nbformat_minor": 5
}
