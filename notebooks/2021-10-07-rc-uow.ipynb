{
 "cells": [
  {
   "cell_type": "markdown",
   "id": "a0acdad3",
   "metadata": {},
   "source": [
    "# Unit of Work\n",
    "\n",
    "The purpose of a unit of work is to group all our updates to the DB into a single 'unit' of updates. In relational DBs, this is often wrapped in a DB transaction, but we won't do that here...."
   ]
  },
  {
   "cell_type": "code",
   "execution_count": 1,
   "id": "ad1ee523",
   "metadata": {},
   "outputs": [],
   "source": [
    "from barin2.identity_map import IdentityMap\n",
    "from barin2.instrumentation import get_state, Status, set_object_status\n",
    "\n",
    "import pymongo\n",
    "cli = pymongo.MongoClient('mongodb://mongo')\n",
    "db = cli.barin2\n",
    "imap = IdentityMap()"
   ]
  },
  {
   "cell_type": "code",
   "execution_count": 2,
   "id": "236f521c",
   "metadata": {},
   "outputs": [
    {
     "data": {
      "text/plain": [
       "{'_id': ObjectId('615e1ff773b0c646ff5e2a57'),\n",
       " 'name': 'Rick',\n",
       " 'classes': ['Python', 'ML']}"
      ]
     },
     "execution_count": 2,
     "metadata": {},
     "output_type": "execute_result"
    }
   ],
   "source": [
    "user_doc = db.users.find_one()\n",
    "user_mdoc = imap.process(db.users, user_doc, Status.CLEAN)\n",
    "user_mdoc"
   ]
  },
  {
   "cell_type": "code",
   "execution_count": 3,
   "id": "a480222a",
   "metadata": {},
   "outputs": [
    {
     "data": {
      "text/plain": [
       "<istate status=Status.CLEAN container=None>"
      ]
     },
     "execution_count": 3,
     "metadata": {},
     "output_type": "execute_result"
    }
   ],
   "source": [
    "get_state(user_mdoc)"
   ]
  },
  {
   "cell_type": "markdown",
   "id": "2be6c08f",
   "metadata": {},
   "source": [
    "# Thinking about state\n",
    "\n",
    "Documents (and fields) can have various states beyond dirty/not dirty\n",
    "\n",
    "- clean - memory matches db\n",
    "- new - in memory, not in db\n",
    "- dirty - in both, memory has changes\n",
    "- deleted - in db, not in memory"
   ]
  },
  {
   "cell_type": "code",
   "execution_count": 4,
   "id": "1b468e60",
   "metadata": {},
   "outputs": [
    {
     "data": {
      "text/plain": [
       "<istate status=Status.CLEAN container={'_id': ObjectId('615e1ff773b0c646ff5e2a57'), 'name': 'Rick', 'classes': ['Python', 'ML']}>"
      ]
     },
     "execution_count": 4,
     "metadata": {},
     "output_type": "execute_result"
    }
   ],
   "source": [
    "get_state(user_mdoc['classes'])"
   ]
  },
  {
   "cell_type": "markdown",
   "id": "39188913",
   "metadata": {},
   "source": [
    "Check our changes"
   ]
  },
  {
   "cell_type": "code",
   "execution_count": 5,
   "id": "300d6084",
   "metadata": {},
   "outputs": [
    {
     "data": {
      "text/plain": [
       "<istate status=Status.DIRTY container=None>"
      ]
     },
     "execution_count": 5,
     "metadata": {},
     "output_type": "execute_result"
    }
   ],
   "source": [
    "user_mdoc['business'] = 'Arborian'\n",
    "get_state(user_mdoc)"
   ]
  },
  {
   "cell_type": "code",
   "execution_count": 6,
   "id": "13123192",
   "metadata": {},
   "outputs": [
    {
     "data": {
      "text/plain": [
       "<istate status=Status.CLEAN container=None>"
      ]
     },
     "execution_count": 6,
     "metadata": {},
     "output_type": "execute_result"
    }
   ],
   "source": [
    "set_object_status(user_mdoc, Status.CLEAN)\n",
    "get_state(user_mdoc)"
   ]
  },
  {
   "cell_type": "code",
   "execution_count": 7,
   "id": "08dea1cd",
   "metadata": {},
   "outputs": [
    {
     "data": {
      "text/plain": [
       "<istate status=Status.DIRTY container=None>"
      ]
     },
     "execution_count": 7,
     "metadata": {},
     "output_type": "execute_result"
    }
   ],
   "source": [
    "user_mdoc.update(business='Arborian')\n",
    "get_state(user_mdoc)"
   ]
  },
  {
   "cell_type": "code",
   "execution_count": 8,
   "id": "d83ac6ab",
   "metadata": {},
   "outputs": [
    {
     "data": {
      "text/plain": [
       "<istate status=Status.DIRTY container=None>"
      ]
     },
     "execution_count": 8,
     "metadata": {},
     "output_type": "execute_result"
    }
   ],
   "source": [
    "set_object_status(user_mdoc, Status.CLEAN)\n",
    "user_mdoc['classes'].pop()\n",
    "get_state(user_mdoc)"
   ]
  },
  {
   "cell_type": "code",
   "execution_count": null,
   "id": "4cc53485",
   "metadata": {},
   "outputs": [],
   "source": []
  }
 ],
 "metadata": {
  "kernelspec": {
   "display_name": "Python 3 (ipykernel)",
   "language": "python",
   "name": "python3"
  },
  "language_info": {
   "codemirror_mode": {
    "name": "ipython",
    "version": 3
   },
   "file_extension": ".py",
   "mimetype": "text/x-python",
   "name": "python",
   "nbconvert_exporter": "python",
   "pygments_lexer": "ipython3",
   "version": "3.7.10"
  }
 },
 "nbformat": 4,
 "nbformat_minor": 5
}
