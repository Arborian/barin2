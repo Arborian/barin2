{
 "cells": [
  {
   "cell_type": "markdown",
   "id": "a0acdad3",
   "metadata": {},
   "source": [
    "# Unit of Work\n",
    "\n",
    "The purpose of a unit of work is to group all our updates to the DB into a single 'unit' of updates. In relational DBs, this is often wrapped in a DB transaction, but we won't do that here...."
   ]
  },
  {
   "cell_type": "code",
   "execution_count": 1,
   "id": "0b526b55",
   "metadata": {},
   "outputs": [],
   "source": [
    "from barin2.identity_map import IdentityMap\n",
    "from barin2.instrumentation import get_state, Status, set_object_status\n",
    "\n",
    "import pymongo\n",
    "cli = pymongo.MongoClient('mongodb://mongo')\n",
    "db = cli.barin2\n",
    "idmap = IdentityMap()"
   ]
  },
  {
   "cell_type": "code",
   "execution_count": 2,
   "id": "aa795450",
   "metadata": {},
   "outputs": [
    {
     "data": {
      "text/plain": [
       "{'_id': ObjectId('615e1ff773b0c646ff5e2a57'),\n",
       " 'name': 'Rick',\n",
       " 'classes': ['Python', 'ML']}"
      ]
     },
     "execution_count": 2,
     "metadata": {},
     "output_type": "execute_result"
    }
   ],
   "source": [
    "user_doc = db.users.find_one()\n",
    "user_mdoc = idmap.process(db.users, user_doc, Status.CLEAN)\n",
    "user_mdoc"
   ]
  },
  {
   "cell_type": "code",
   "execution_count": 3,
   "id": "a480222a",
   "metadata": {},
   "outputs": [
    {
     "data": {
      "text/plain": [
       "<istate status=Status.CLEAN collection=barin2.users>"
      ]
     },
     "execution_count": 3,
     "metadata": {},
     "output_type": "execute_result"
    }
   ],
   "source": [
    "get_state(user_mdoc)"
   ]
  },
  {
   "cell_type": "markdown",
   "id": "be622675",
   "metadata": {},
   "source": [
    "# Thinking about state\n",
    "\n",
    "Documents (and fields) can have various states beyond dirty/not dirty\n",
    "\n",
    "- clean - memory matches db\n",
    "- new - in memory, not in db\n",
    "- dirty - in both, memory has changes\n",
    "- deleted - in db, not in memory"
   ]
  },
  {
   "cell_type": "code",
   "execution_count": 4,
   "id": "1a933291",
   "metadata": {},
   "outputs": [
    {
     "data": {
      "text/plain": [
       "<istate status=Status.CLEAN container={'_id': ObjectId('615e1ff773b0c646ff5e2a57'), 'name': 'Rick', 'classes': ['Python', 'ML']}>"
      ]
     },
     "execution_count": 4,
     "metadata": {},
     "output_type": "execute_result"
    }
   ],
   "source": [
    "get_state(user_mdoc['classes'])"
   ]
  },
  {
   "cell_type": "markdown",
   "id": "2b74ee11",
   "metadata": {},
   "source": [
    "Check our changes"
   ]
  },
  {
   "cell_type": "code",
   "execution_count": 5,
   "id": "5a91793e",
   "metadata": {},
   "outputs": [
    {
     "name": "stdout",
     "output_type": "stream",
     "text": [
      "Before modify\n",
      "Copy object to _pristine\n"
     ]
    },
    {
     "data": {
      "text/plain": [
       "<istate status=Status.DIRTY collection=barin2.users>"
      ]
     },
     "execution_count": 5,
     "metadata": {},
     "output_type": "execute_result"
    }
   ],
   "source": [
    "user_mdoc['business'] = 'Arborian'\n",
    "get_state(user_mdoc)"
   ]
  },
  {
   "cell_type": "code",
   "execution_count": 6,
   "id": "d6d89a6d",
   "metadata": {},
   "outputs": [
    {
     "data": {
      "text/plain": [
       "<istate status=Status.CLEAN collection=barin2.users>"
      ]
     },
     "execution_count": 6,
     "metadata": {},
     "output_type": "execute_result"
    }
   ],
   "source": [
    "set_object_status(user_mdoc, Status.CLEAN)\n",
    "get_state(user_mdoc)"
   ]
  },
  {
   "cell_type": "code",
   "execution_count": 7,
   "id": "c9e3a159",
   "metadata": {},
   "outputs": [
    {
     "name": "stdout",
     "output_type": "stream",
     "text": [
      "Before modify\n",
      "Copy object to _pristine\n"
     ]
    },
    {
     "data": {
      "text/plain": [
       "<istate status=Status.DIRTY collection=barin2.users>"
      ]
     },
     "execution_count": 7,
     "metadata": {},
     "output_type": "execute_result"
    }
   ],
   "source": [
    "user_mdoc.update(business='Arborian')\n",
    "get_state(user_mdoc)"
   ]
  },
  {
   "cell_type": "code",
   "execution_count": 8,
   "id": "a6315c3b",
   "metadata": {},
   "outputs": [
    {
     "name": "stdout",
     "output_type": "stream",
     "text": [
      "Before modify\n",
      "Copy object to _pristine\n"
     ]
    },
    {
     "data": {
      "text/plain": [
       "<istate status=Status.DIRTY collection=barin2.users>"
      ]
     },
     "execution_count": 8,
     "metadata": {},
     "output_type": "execute_result"
    }
   ],
   "source": [
    "set_object_status(user_mdoc, Status.CLEAN)\n",
    "user_mdoc['classes'].pop()\n",
    "get_state(user_mdoc)"
   ]
  },
  {
   "cell_type": "code",
   "execution_count": 9,
   "id": "34fbdd7b",
   "metadata": {},
   "outputs": [
    {
     "data": {
      "text/plain": [
       "{'_id': ObjectId('615e1ff773b0c646ff5e2a57'),\n",
       " 'name': 'Rick',\n",
       " 'classes': ['Python', 'ML']}"
      ]
     },
     "execution_count": 9,
     "metadata": {},
     "output_type": "execute_result"
    }
   ],
   "source": [
    "user_mdoc = idmap.process(db.users, user_doc, Status.CLEAN)\n",
    "user_mdoc"
   ]
  },
  {
   "cell_type": "code",
   "execution_count": 10,
   "id": "44b0375e",
   "metadata": {},
   "outputs": [
    {
     "data": {
      "text/plain": [
       "<istate status=Status.CLEAN collection=barin2.users>"
      ]
     },
     "execution_count": 10,
     "metadata": {},
     "output_type": "execute_result"
    }
   ],
   "source": [
    "get_state(user_mdoc)"
   ]
  },
  {
   "cell_type": "code",
   "execution_count": 11,
   "id": "a8412248",
   "metadata": {},
   "outputs": [
    {
     "data": {
      "text/plain": [
       "<istate status=Status.CLEAN container={'_id': ObjectId('615e1ff773b0c646ff5e2a57'), 'name': 'Rick', 'classes': ['Python', 'ML']}>"
      ]
     },
     "execution_count": 11,
     "metadata": {},
     "output_type": "execute_result"
    }
   ],
   "source": [
    "get_state(user_mdoc['classes'])"
   ]
  },
  {
   "cell_type": "code",
   "execution_count": 12,
   "id": "ccc497ba",
   "metadata": {},
   "outputs": [],
   "source": [
    "def compute_update(obj):\n",
    "    # Check for dirty Idict and Ilist values\n",
    "    for key, value in obj.items():\n",
    "        value_state = get_state(value)\n",
    "        if not value_state:\n",
    "            continue\n",
    "        if value_state.status == Status.DIRTY:\n",
    "            yield '$set', key, value\n",
    "            \n",
    "    # Check for changed primitive values\n",
    "    pristine = get_state(obj).pristine\n",
    "    if not pristine:\n",
    "        # No primitives were modified\n",
    "        return\n",
    "    added = obj.keys() - pristine.keys()\n",
    "    maybe_updated = obj.keys() & pristine.keys()\n",
    "    deleted = pristine.keys() - obj.keys()\n",
    "    for key in added:\n",
    "        yield '$set', key, obj[key]\n",
    "    for key in deleted:\n",
    "        yield '$unset', key\n",
    "    for key in maybe_updated:\n",
    "        pristine_value = pristine[key]\n",
    "        current_value = obj[key]\n",
    "        value_state = get_state(current_value)\n",
    "        if value_state:\n",
    "            # Already handled these, above\n",
    "            continue\n",
    "        if pristine_value != current_value:\n",
    "            yield '$set', key, current_value\n",
    "    \n",
    "def compute_changes(obj):\n",
    "    state = get_state(obj)\n",
    "    if state.status == Status.CLEAN:\n",
    "        return\n",
    "    elif state.status == Status.NEW:\n",
    "        yield 'insert', obj\n",
    "    elif state.status == Status.DELETED:\n",
    "        yield 'delete', obj\n",
    "    elif state.status == Status.DIRTY:\n",
    "        yield from compute_update(obj)"
   ]
  },
  {
   "cell_type": "code",
   "execution_count": 13,
   "id": "f0c7d8a5",
   "metadata": {},
   "outputs": [
    {
     "name": "stdout",
     "output_type": "stream",
     "text": [
      "Before modify\n",
      "Copy object to _pristine\n"
     ]
    }
   ],
   "source": [
    "user_mdoc['classes'].append('React')"
   ]
  },
  {
   "cell_type": "code",
   "execution_count": 14,
   "id": "a4a644f0",
   "metadata": {},
   "outputs": [
    {
     "name": "stdout",
     "output_type": "stream",
     "text": [
      "('$set', 'classes', ['Python', 'ML', 'React'])\n"
     ]
    }
   ],
   "source": [
    "for item in compute_changes(user_mdoc):\n",
    "    print(item)"
   ]
  },
  {
   "cell_type": "code",
   "execution_count": 15,
   "id": "4e585d35",
   "metadata": {},
   "outputs": [],
   "source": [
    "class UnitOfWork:\n",
    "    def __init__(self, idmap):\n",
    "        self._idmap = idmap\n",
    "        \n",
    "    def add(self, obj, collection=None):\n",
    "        \"\"\"Add (mark for insertion if new) an item\"\"\"\n",
    "        return self._idmap.process(collection, obj, Status.NEW)\n",
    "    \n",
    "    def delete(self, obj, collection=None):\n",
    "        \"\"\"Remove (mark for deletion) an item\"\"\"\n",
    "        return self._idmap.process(collection, obj, Status.DELETED)\n",
    "    "
   ]
  },
  {
   "cell_type": "markdown",
   "id": "dd41bc02",
   "metadata": {},
   "source": [
    "# TODO\n",
    "\n",
    "Basic use cases:\n",
    "\n",
    "  - create dict, insert into UOW, flush UOW .insert()s doc\n",
    "  - query doc, save to UOW, modify, flush UOW .update()s doc\n",
    "  - query doc, save to UOW, delete from UOW .delete()s doc\n"
   ]
  }
 ],
 "metadata": {
  "kernelspec": {
   "display_name": "Python 3 (ipykernel)",
   "language": "python",
   "name": "python3"
  },
  "language_info": {
   "codemirror_mode": {
    "name": "ipython",
    "version": 3
   },
   "file_extension": ".py",
   "mimetype": "text/x-python",
   "name": "python",
   "nbconvert_exporter": "python",
   "pygments_lexer": "ipython3",
   "version": "3.7.10"
  }
 },
 "nbformat": 4,
 "nbformat_minor": 5
}
